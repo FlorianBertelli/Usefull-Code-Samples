{
 "cells": [
  {
   "cell_type": "code",
   "execution_count": 9,
   "metadata": {},
   "outputs": [],
   "source": [
    "import os\n",
    "import numpy as np\n",
    "import pandas as pd\n",
    "from PIL import Image"
   ]
  },
  {
   "cell_type": "code",
   "execution_count": 10,
   "metadata": {},
   "outputs": [],
   "source": [
    "car = pd.read_csv(#DIRECTORY OF THE CSV OBTAINED FROM DL SUBSET COCO)\n",
    "truck =  pd.read_csv(#DIRECTORY OF THE CSV OBTAINED FROM DL SUBSET COCO)\n",
    "person = pd.read_csv(#DIRECTORY OF THE CSV OBTAINED FROM DL SUBSET COCO)"
   ]
  },
  {
   "cell_type": "code",
   "execution_count": 11,
   "metadata": {
    "scrolled": false
   },
   "outputs": [
    {
     "name": "stdout",
     "output_type": "stream",
     "text": [
      "           filename    x    y  width  height class\n",
      "0  000000360449.jpg  138  361    212     420   car\n",
      "1  000000360449.jpg   43  347    132     429   car\n",
      "2  000000360449.jpg  355  341    381     358   car\n",
      "3  000000360449.jpg  394  319    460     373   car\n",
      "4  000000360449.jpg    2  367     63     443   car\n"
     ]
    }
   ],
   "source": [
    "print(car[:5])"
   ]
  },
  {
   "cell_type": "code",
   "execution_count": 42,
   "metadata": {
    "scrolled": true
   },
   "outputs": [],
   "source": [
    "for index, row in car.iterrows():\n",
    "    \n",
    "    ####################defining the parameters#############################\n",
    "    #filename\n",
    "    filename = (row['filename'][:12]) +'.txt'\n",
    "    \n",
    "    #classe (person = 0, car=1 , truck=2), personal choice\n",
    "    if(row['class']== 'person' ):\n",
    "        class_ = 0\n",
    "    if(row['class']== 'car' ):\n",
    "        class_ = 1\n",
    "    if(row['class']== 'truck' ):\n",
    "        class_ = 2\n",
    "        \n",
    "    #x to xcenter, y to ycenter\n",
    "    x_center = row['x'] + int(abs(row['width']-row['x'])/2)\n",
    "    y_center = row['y'] + int(abs(row['height']-row['y'])/2)\n",
    "    \n",
    "    #normalisation\n",
    "    directory = #DIRECTORY OF ALL YOUR IMAGES\n",
    "    im_filename = os.path.join(directory,row['filename'])\n",
    "    img = Image.open(im_filename)\n",
    "    im_width = 1\n",
    "    im_height = 1 \n",
    "    im_width , im_height  = img.size \n",
    "    \n",
    "    x_center,width = x_center/im_width , row['width']/im_width\n",
    "    y_center,height = y_center/im_height , row['height']/im_height\n",
    "    \n",
    "    if(x_center>1):\n",
    "        print(\"BUGGG\")\n",
    "    if(y_center>1):\n",
    "        print(\"BUGGG\")\n",
    "    if(width>1):\n",
    "        print(\"BUGGG\")\n",
    "    if(height>1):\n",
    "        print(\"BUGGG\")\n",
    "    ############################iterating other the files #######################\n",
    "    filename = os.path.join('D:/safran/COCO/annotation_darknet' , filename)\n",
    "    if (os.path.isfile(filename)== False):\n",
    "        f= open(filename,\"w+\")\n",
    "        f.write(str(class_ )+ ' ' + str(x_center) +' ' + str(y_center) + ' ' + str(width) + ' ' + str(height)  + '\\n')\n",
    "    else:\n",
    "        f= open(filename,\"a\")\n",
    "        f.write(str(class_ )+ ' ' + str(x_center) +' ' + str(y_center) + ' ' + str(width) + ' ' + str(height)  + '\\n')\n",
    "    f.close()\n",
    "    "
   ]
  }
 ],
 "metadata": {
  "kernelspec": {
   "display_name": "Python 3",
   "language": "python",
   "name": "python3"
  },
  "language_info": {
   "codemirror_mode": {
    "name": "ipython",
    "version": 3
   },
   "file_extension": ".py",
   "mimetype": "text/x-python",
   "name": "python",
   "nbconvert_exporter": "python",
   "pygments_lexer": "ipython3",
   "version": "3.7.3"
  }
 },
 "nbformat": 4,
 "nbformat_minor": 2
}

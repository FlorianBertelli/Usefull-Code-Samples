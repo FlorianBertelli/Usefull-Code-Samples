{
 "cells": [
  {
   "cell_type": "code",
   "execution_count": 67,
   "metadata": {},
   "outputs": [],
   "source": [
    "import pandas as pd\n",
    "import numpy as np\n",
    "import warnings\n",
    "warnings.filterwarnings('ignore')"
   ]
  },
  {
   "cell_type": "code",
   "execution_count": 79,
   "metadata": {},
   "outputs": [],
   "source": [
    "car = pd.read_csv('./annotations_download_car.csv')\n",
    "truck = pd.read_csv('./annotations_download_truck.csv')\n",
    "person = pd.read_csv('./annotations_download_person.csv')"
   ]
  },
  {
   "cell_type": "code",
   "execution_count": 80,
   "metadata": {},
   "outputs": [
    {
     "data": {
      "text/html": [
       "<div>\n",
       "<style scoped>\n",
       "    .dataframe tbody tr th:only-of-type {\n",
       "        vertical-align: middle;\n",
       "    }\n",
       "\n",
       "    .dataframe tbody tr th {\n",
       "        vertical-align: top;\n",
       "    }\n",
       "\n",
       "    .dataframe thead th {\n",
       "        text-align: right;\n",
       "    }\n",
       "</style>\n",
       "<table border=\"1\" class=\"dataframe\">\n",
       "  <thead>\n",
       "    <tr style=\"text-align: right;\">\n",
       "      <th></th>\n",
       "      <th>filename</th>\n",
       "      <th>x</th>\n",
       "      <th>y</th>\n",
       "      <th>width</th>\n",
       "      <th>height</th>\n",
       "      <th>class</th>\n",
       "    </tr>\n",
       "  </thead>\n",
       "  <tbody>\n",
       "    <tr>\n",
       "      <th>0</th>\n",
       "      <td>000000360449.jpg</td>\n",
       "      <td>138</td>\n",
       "      <td>361</td>\n",
       "      <td>212</td>\n",
       "      <td>420</td>\n",
       "      <td>car</td>\n",
       "    </tr>\n",
       "    <tr>\n",
       "      <th>1</th>\n",
       "      <td>000000360449.jpg</td>\n",
       "      <td>43</td>\n",
       "      <td>347</td>\n",
       "      <td>132</td>\n",
       "      <td>429</td>\n",
       "      <td>car</td>\n",
       "    </tr>\n",
       "    <tr>\n",
       "      <th>2</th>\n",
       "      <td>000000360449.jpg</td>\n",
       "      <td>355</td>\n",
       "      <td>341</td>\n",
       "      <td>381</td>\n",
       "      <td>358</td>\n",
       "      <td>car</td>\n",
       "    </tr>\n",
       "    <tr>\n",
       "      <th>3</th>\n",
       "      <td>000000360449.jpg</td>\n",
       "      <td>394</td>\n",
       "      <td>319</td>\n",
       "      <td>460</td>\n",
       "      <td>373</td>\n",
       "      <td>car</td>\n",
       "    </tr>\n",
       "    <tr>\n",
       "      <th>4</th>\n",
       "      <td>000000360449.jpg</td>\n",
       "      <td>2</td>\n",
       "      <td>367</td>\n",
       "      <td>63</td>\n",
       "      <td>443</td>\n",
       "      <td>car</td>\n",
       "    </tr>\n",
       "  </tbody>\n",
       "</table>\n",
       "</div>"
      ],
      "text/plain": [
       "           filename    x    y  width  height class\n",
       "0  000000360449.jpg  138  361    212     420   car\n",
       "1  000000360449.jpg   43  347    132     429   car\n",
       "2  000000360449.jpg  355  341    381     358   car\n",
       "3  000000360449.jpg  394  319    460     373   car\n",
       "4  000000360449.jpg    2  367     63     443   car"
      ]
     },
     "execution_count": 80,
     "metadata": {},
     "output_type": "execute_result"
    }
   ],
   "source": [
    "car.head()"
   ]
  },
  {
   "cell_type": "markdown",
   "metadata": {},
   "source": [
    "# STATISTIQUES"
   ]
  },
  {
   "cell_type": "code",
   "execution_count": 81,
   "metadata": {},
   "outputs": [],
   "source": [
    "def stat_df(df):\n",
    "    df['area (pixel²)'] = df.apply(lambda row: row.width * row.height, axis=1)\n",
    "\n",
    "    print(df['area (pixel²)'].describe())\n",
    "\n",
    "\n",
    "\n",
    "    small = df[df[\"area (pixel²)\"]<= 32*32][\"x\"].count()\n",
    "    print(\"small\" , small)\n",
    "\n",
    "    tmp = df[32*32< df[\"area (pixel²)\"]]\n",
    "    medium = tmp[96*96> df[\"area (pixel²)\"]][\"x\"].count()\n",
    "    print(\"medium\" , medium)\n",
    "\n",
    "    large = df[df[\"area (pixel²)\"]> 96*96][\"x\"].count()\n",
    "    print(\"large\" , large)"
   ]
  },
  {
   "cell_type": "code",
   "execution_count": 82,
   "metadata": {},
   "outputs": [
    {
     "name": "stdout",
     "output_type": "stream",
     "text": [
      "count     43867.000000\n",
      "mean      90072.133380\n",
      "std       69025.227084\n",
      "min         182.000000\n",
      "25%       34238.000000\n",
      "50%       74444.000000\n",
      "75%      130871.000000\n",
      "max      409600.000000\n",
      "Name: area (pixel²), dtype: float64\n",
      "small 35\n",
      "medium 2282\n",
      "large 41548\n"
     ]
    }
   ],
   "source": [
    "stat_df(car)"
   ]
  },
  {
   "cell_type": "code",
   "execution_count": 83,
   "metadata": {},
   "outputs": [
    {
     "name": "stdout",
     "output_type": "stream",
     "text": [
      "count     43867.000000\n",
      "mean      90072.133380\n",
      "std       69025.227084\n",
      "min         182.000000\n",
      "25%       34238.000000\n",
      "50%       74444.000000\n",
      "75%      130871.000000\n",
      "max      409600.000000\n",
      "Name: area (pixel²), dtype: float64\n",
      "small 35\n",
      "medium 2282\n",
      "large 41548\n"
     ]
    }
   ],
   "source": [
    "stat_df(truck)"
   ]
  },
  {
   "cell_type": "code",
   "execution_count": 84,
   "metadata": {},
   "outputs": [
    {
     "name": "stdout",
     "output_type": "stream",
     "text": [
      "count    262465.000000\n",
      "mean     104645.597078\n",
      "std       73510.780362\n",
      "min         126.000000\n",
      "25%       45450.000000\n",
      "50%       90650.000000\n",
      "75%      149314.000000\n",
      "max      409600.000000\n",
      "Name: area (pixel²), dtype: float64\n",
      "small 144\n",
      "medium 8594\n",
      "large 253721\n"
     ]
    }
   ],
   "source": [
    "stat_df(person)"
   ]
  }
 ],
 "metadata": {
  "kernelspec": {
   "display_name": "Python 3",
   "language": "python",
   "name": "python3"
  },
  "language_info": {
   "codemirror_mode": {
    "name": "ipython",
    "version": 3
   },
   "file_extension": ".py",
   "mimetype": "text/x-python",
   "name": "python",
   "nbconvert_exporter": "python",
   "pygments_lexer": "ipython3",
   "version": "3.7.3"
  }
 },
 "nbformat": 4,
 "nbformat_minor": 2
}

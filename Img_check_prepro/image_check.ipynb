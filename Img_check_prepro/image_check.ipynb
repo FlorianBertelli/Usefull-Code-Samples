{
 "cells": [
  {
   "cell_type": "code",
   "execution_count": 42,
   "metadata": {},
   "outputs": [],
   "source": [
    "from PIL import Image\n",
    "import os.path\n",
    "\n",
    "import os\n",
    "\n",
    "directory_A = os.fsencode(\"D:\\safran\\Power_Line_Database (Infrared-IR and Visible Light-VL)\\Infrared (IR)\")\n",
    "\n",
    "for file in os.listdir(directory): \n",
    "    filename = os.path.join(directory_A,file)\n",
    "    img = Image.open(filename)\n",
    "    if (img.size != (128,128)):\n",
    "        print (img.size)"
   ]
  },
  {
   "cell_type": "code",
   "execution_count": 46,
   "metadata": {},
   "outputs": [
    {
     "name": "stdout",
     "output_type": "stream",
     "text": [
      "b'D:\\\\safran\\\\Power_Line_Database (Infrared-IR and Visible Light-VL)\\\\Visible Light (VL)\\\\TV_IR_0001.bmp'\n"
     ]
    },
    {
     "ename": "FileNotFoundError",
     "evalue": "[Errno 2] No such file or directory: b'D:\\\\safran\\\\Power_Line_Database (Infrared-IR and Visible Light-VL)\\\\Visible Light (VL)\\\\TV_IR_0001.bmp'",
     "output_type": "error",
     "traceback": [
      "\u001b[1;31m---------------------------------------------------------------------------\u001b[0m",
      "\u001b[1;31mFileNotFoundError\u001b[0m                         Traceback (most recent call last)",
      "\u001b[1;32m<ipython-input-46-f3554f0b22e9>\u001b[0m in \u001b[0;36m<module>\u001b[1;34m\u001b[0m\n\u001b[0;32m      9\u001b[0m     \u001b[0mfilename\u001b[0m \u001b[1;33m=\u001b[0m \u001b[0mos\u001b[0m\u001b[1;33m.\u001b[0m\u001b[0mpath\u001b[0m\u001b[1;33m.\u001b[0m\u001b[0mjoin\u001b[0m\u001b[1;33m(\u001b[0m\u001b[0mdirectory_B\u001b[0m\u001b[1;33m,\u001b[0m\u001b[0mfile\u001b[0m\u001b[1;33m)\u001b[0m\u001b[1;33m\u001b[0m\u001b[1;33m\u001b[0m\u001b[0m\n\u001b[0;32m     10\u001b[0m     \u001b[0mprint\u001b[0m\u001b[1;33m(\u001b[0m\u001b[0mfilename\u001b[0m\u001b[1;33m)\u001b[0m\u001b[1;33m\u001b[0m\u001b[1;33m\u001b[0m\u001b[0m\n\u001b[1;32m---> 11\u001b[1;33m     \u001b[0mimg\u001b[0m \u001b[1;33m=\u001b[0m \u001b[0mImage\u001b[0m\u001b[1;33m.\u001b[0m\u001b[0mopen\u001b[0m\u001b[1;33m(\u001b[0m\u001b[0mfilename\u001b[0m\u001b[1;33m)\u001b[0m\u001b[1;33m\u001b[0m\u001b[1;33m\u001b[0m\u001b[0m\n\u001b[0m\u001b[0;32m     12\u001b[0m     \u001b[1;32mif\u001b[0m \u001b[1;33m(\u001b[0m\u001b[0mimg\u001b[0m\u001b[1;33m.\u001b[0m\u001b[0msize\u001b[0m \u001b[1;33m!=\u001b[0m \u001b[1;33m(\u001b[0m\u001b[1;36m128\u001b[0m\u001b[1;33m,\u001b[0m\u001b[1;36m128\u001b[0m\u001b[1;33m)\u001b[0m\u001b[1;33m)\u001b[0m\u001b[1;33m:\u001b[0m\u001b[1;33m\u001b[0m\u001b[1;33m\u001b[0m\u001b[0m\n\u001b[0;32m     13\u001b[0m         \u001b[0mprint\u001b[0m \u001b[1;33m(\u001b[0m\u001b[0mimg\u001b[0m\u001b[1;33m.\u001b[0m\u001b[0msize\u001b[0m\u001b[1;33m)\u001b[0m\u001b[1;33m\u001b[0m\u001b[1;33m\u001b[0m\u001b[0m\n",
      "\u001b[1;32m~\\Anaconda3\\lib\\site-packages\\PIL\\Image.py\u001b[0m in \u001b[0;36mopen\u001b[1;34m(fp, mode)\u001b[0m\n\u001b[0;32m   2768\u001b[0m \u001b[1;33m\u001b[0m\u001b[0m\n\u001b[0;32m   2769\u001b[0m     \u001b[1;32mif\u001b[0m \u001b[0mfilename\u001b[0m\u001b[1;33m:\u001b[0m\u001b[1;33m\u001b[0m\u001b[1;33m\u001b[0m\u001b[0m\n\u001b[1;32m-> 2770\u001b[1;33m         \u001b[0mfp\u001b[0m \u001b[1;33m=\u001b[0m \u001b[0mbuiltins\u001b[0m\u001b[1;33m.\u001b[0m\u001b[0mopen\u001b[0m\u001b[1;33m(\u001b[0m\u001b[0mfilename\u001b[0m\u001b[1;33m,\u001b[0m \u001b[1;34m\"rb\"\u001b[0m\u001b[1;33m)\u001b[0m\u001b[1;33m\u001b[0m\u001b[1;33m\u001b[0m\u001b[0m\n\u001b[0m\u001b[0;32m   2771\u001b[0m         \u001b[0mexclusive_fp\u001b[0m \u001b[1;33m=\u001b[0m \u001b[1;32mTrue\u001b[0m\u001b[1;33m\u001b[0m\u001b[1;33m\u001b[0m\u001b[0m\n\u001b[0;32m   2772\u001b[0m \u001b[1;33m\u001b[0m\u001b[0m\n",
      "\u001b[1;31mFileNotFoundError\u001b[0m: [Errno 2] No such file or directory: b'D:\\\\safran\\\\Power_Line_Database (Infrared-IR and Visible Light-VL)\\\\Visible Light (VL)\\\\TV_IR_0001.bmp'"
     ]
    }
   ],
   "source": [
    "from PIL import Image\n",
    "import os.path\n",
    "\n",
    "import os\n",
    "\n",
    "directory_B = os.fsencode(\"D:\\safran\\Power_Line_Database (Infrared-IR and Visible Light-VL)\\Visible Light (VL)\")\n",
    "\n",
    "for file in os.listdir(directory): \n",
    "    filename = os.path.join(directory_B,file)\n",
    "    print(filename)\n",
    "    img = Image.open(filename)\n",
    "    if (img.size != (128,128)):\n",
    "        print (img.size)"
   ]
  },
  {
   "cell_type": "code",
   "execution_count": 47,
   "metadata": {},
   "outputs": [],
   "source": [
    "from os import listdir\n",
    "from os.path import isfile, join\n",
    "onlyfiles_TV = [f for f in listdir(\"D:\\safran\\Power_Line_Database (Infrared-IR and Visible Light-VL)\\Visible Light (VL)\") if isfile(join(\"D:\\safran\\Power_Line_Database (Infrared-IR and Visible Light-VL)\\Visible Light (VL)\", f))]\n",
    "\n",
    "onlyfiles_IR = [f for f in listdir(\"D:\\safran\\Power_Line_Database (Infrared-IR and Visible Light-VL)\\Infrared (IR)\") if isfile(join(\"D:\\safran\\Power_Line_Database (Infrared-IR and Visible Light-VL)\\Infrared (IR)\", f))]"
   ]
  },
  {
   "cell_type": "code",
   "execution_count": 48,
   "metadata": {
    "scrolled": true
   },
   "outputs": [
    {
     "name": "stdout",
     "output_type": "stream",
     "text": [
      "4000\n",
      "4000\n"
     ]
    }
   ],
   "source": [
    "print(len(onlyfiles_IR))\n",
    "print(len(onlyfiles_TV))"
   ]
  },
  {
   "cell_type": "code",
   "execution_count": 49,
   "metadata": {},
   "outputs": [],
   "source": [
    "from sklearn.model_selection import train_test_split\n",
    "ir_train, ir_test = train_test_split(onlyfiles_IR, test_size = 0.5, random_state = 1)\n",
    "tv_train, tv_test = train_test_split(onlyfiles_TV, test_size = 0.5, random_state = 1)"
   ]
  },
  {
   "cell_type": "code",
   "execution_count": 50,
   "metadata": {},
   "outputs": [
    {
     "data": {
      "text/plain": [
       "'TY_IR_3379.bmp'"
      ]
     },
     "execution_count": 50,
     "metadata": {},
     "output_type": "execute_result"
    }
   ],
   "source": [
    "ir_train[100]"
   ]
  },
  {
   "cell_type": "code",
   "execution_count": 51,
   "metadata": {},
   "outputs": [
    {
     "data": {
      "text/plain": [
       "'TY_VL_3379.bmp'"
      ]
     },
     "execution_count": 51,
     "metadata": {},
     "output_type": "execute_result"
    }
   ],
   "source": [
    "tv_train[100]"
   ]
  },
  {
   "cell_type": "code",
   "execution_count": 65,
   "metadata": {
    "scrolled": true
   },
   "outputs": [
    {
     "name": "stdout",
     "output_type": "stream",
     "text": [
      "D:\\safran\\Power_Line_Database (Infrared-IR and Visible Light-VL)\n"
     ]
    }
   ],
   "source": [
    "cd D:\\safran\\Power_Line_Database (Infrared-IR and Visible Light-VL)"
   ]
  },
  {
   "cell_type": "code",
   "execution_count": 66,
   "metadata": {
    "scrolled": true
   },
   "outputs": [
    {
     "name": "stdout",
     "output_type": "stream",
     "text": [
      " Le volume dans le lecteur D s'appelle LG External HDD Drive\n",
      " Le num‚ro de s‚rie du volume est BC51-C316\n",
      "\n",
      " R‚pertoire de D:\\safran\\Power_Line_Database (Infrared-IR and Visible Light-VL)\n",
      "\n",
      "13/07/2017  21:24    <DIR>          .\n",
      "13/07/2017  21:24    <DIR>          ..\n",
      "13/07/2017  21:25            14ÿ340 .DS_Store\n",
      "25/03/2020  12:11    <DIR>          Infrared (IR)\n",
      "30/12/2016  23:00             1ÿ085 Licence.txt\n",
      "25/03/2020  14:06    <DIR>          Visible Light (VL)\n",
      "               2 fichier(s)           15ÿ425 octets\n",
      "               4 R‚p(s)  290ÿ314ÿ964ÿ992 octets libres\n"
     ]
    }
   ],
   "source": [
    "ls"
   ]
  },
  {
   "cell_type": "code",
   "execution_count": 72,
   "metadata": {},
   "outputs": [
    {
     "name": "stdout",
     "output_type": "stream",
     "text": [
      "D:\\safran\\Power_Line_Database (Infrared-IR and Visible Light-VL)\\Visible Light (VL)\n"
     ]
    }
   ],
   "source": [
    "cd Visible Light (VL)"
   ]
  },
  {
   "cell_type": "code",
   "execution_count": 75,
   "metadata": {},
   "outputs": [],
   "source": [
    "import shutil\n",
    "for f in tv_train:\n",
    "    shutil.copy(f, './trainA/')\n"
   ]
  },
  {
   "cell_type": "code",
   "execution_count": 77,
   "metadata": {},
   "outputs": [],
   "source": [
    "import shutil\n",
    "for f in tv_test:\n",
    "    shutil.copy(f, './testA/')\n"
   ]
  },
  {
   "cell_type": "code",
   "execution_count": 78,
   "metadata": {},
   "outputs": [
    {
     "name": "stdout",
     "output_type": "stream",
     "text": [
      "D:\\safran\\Power_Line_Database (Infrared-IR and Visible Light-VL)\\Infrared (IR)\n"
     ]
    }
   ],
   "source": [
    "cd ../Infrared (IR)"
   ]
  },
  {
   "cell_type": "code",
   "execution_count": 79,
   "metadata": {},
   "outputs": [],
   "source": [
    "import shutil\n",
    "for f in ir_train:\n",
    "    shutil.copy(f, './trainB/')"
   ]
  },
  {
   "cell_type": "code",
   "execution_count": 80,
   "metadata": {},
   "outputs": [],
   "source": [
    "import shutil\n",
    "for f in ir_test:\n",
    "    shutil.copy(f, './testB/')"
   ]
  }
 ],
 "metadata": {
  "kernelspec": {
   "display_name": "Python 3",
   "language": "python",
   "name": "python3"
  },
  "language_info": {
   "codemirror_mode": {
    "name": "ipython",
    "version": 3
   },
   "file_extension": ".py",
   "mimetype": "text/x-python",
   "name": "python",
   "nbconvert_exporter": "python",
   "pygments_lexer": "ipython3",
   "version": "3.7.3"
  }
 },
 "nbformat": 4,
 "nbformat_minor": 2
}
